{
 "cells": [
  {
   "cell_type": "markdown",
   "metadata": {
    "slideshow": {
     "slide_type": "slide"
    }
   },
   "source": [
    "# Test diaporama pour la présentation avec Doctrine"
   ]
  },
  {
   "cell_type": "markdown",
   "metadata": {
    "slideshow": {
     "slide_type": "slide"
    }
   },
   "source": [
    "# Commandes de base pour utiliser jupyter en mode slides\n",
    " - Pour lancer un notebook en mode slides :\n",
    " ```python\n",
    "jupyter nbconvert slides.ipynb --to slides --post serve\n",
    "```\n",
    " - 'Diapo' crée une diapo normale (accessible avec les flèches gauche/droite), 'Sous-Diapo' crée une hiérarchie (accessible par les flèches haut/bas)\n",
    " - [Markdown](https://github.com/adam-p/markdown-here/wiki/Markdown-Cheatsheet)"
   ]
  },
  {
   "cell_type": "markdown",
   "metadata": {},
   "source": [
    "# Le projet : Chatlaw\n",
    "\n",
    "## Présentation du concept\n",
    "\n",
    "L'objectif de ce projet est de réaliser un chatbot nous permettant d'obtenir une réponse sur une question du domaine juridique. Cette réponse étant obtenu à l'aide d'une similarité d'une réponse déjà présente sur des forums."
   ]
  },
  {
   "cell_type": "markdown",
   "metadata": {
    "slideshow": {
     "slide_type": "fragment"
    }
   },
   "source": [
    "# Etapes du projet\n",
    "## crawling de différents sites pour obtenir des données\n",
    "## prétraitement des données\n",
    "## catégorisation automatique de ces données\n",
    "## interaction avec l'utilisateur\n",
    " - l'utilisateur peut poser une question juridique et reçoit la question la plus similaire à la sienne dans la base de données, ainsi que la réponse associée"
   ]
  },
  {
   "cell_type": "markdown",
   "metadata": {
    "slideshow": {
     "slide_type": "slide"
    }
   },
   "source": [
    "# Crawling"
   ]
  },
  {
   "cell_type": "markdown",
   "metadata": {
    "slideshow": {
     "slide_type": "slide"
    }
   },
   "source": [
    "# Prétraitement"
   ]
  },
  {
   "cell_type": "markdown",
   "metadata": {
    "slideshow": {
     "slide_type": "slide"
    }
   },
   "source": [
    "# Catégorisation"
   ]
  },
  {
   "cell_type": "markdown",
   "metadata": {
    "slideshow": {
     "slide_type": "slide"
    }
   },
   "source": [
    "# Interaction avec l'utilisateur\n",
    "- interface graphique\n",
    "\n",
    "\n",
    "- recherche de similarités\n",
    "\n",
    "La recherche de similarité est effectué avec un script en python. \n",
    "Deux scripts sont utilisés pour cela : \n",
    "\n",
    "\n",
    "### preprocessdocs.py \n",
    "\n",
    "Ce script nous permet de créer un dictionnaire à partir du corpus avec comme attribut, l'id, la classe, la sous-classe, la question, les réponses associées à la question ainsi que la question et les réponses lemmatisées. \n",
    "Le tout est sauvegardé dans des \"pickles\" qui nous permettent de conserver les résultats dans un script python pour pouvoir les réutiliser facilement. Cela nous permet de garder en mémoire celui-ci afin de ne pas refaire le processus dès que l'utilisateur pose une question.\n",
    "\n",
    "### test_question.py\n",
    "\n",
    "Ce script charge, dans un premier temps, le résultat obtenu précédemment, à partir notamment des classes catégorisées par le groupe ayant effectué la classification des documents, et transforme ce résultat en un vecteur TF-IDF. Ensuite, on utilise sur celui-ci un calcul de similarité cosinus dans les documents appartenant à la même classe que celle de la question.\n"
   ]
  },
  {
   "cell_type": "markdown",
   "metadata": {},
   "source": [
    "# Schéma d'interaction avec l'utilisateur\n",
    "\n",
    "   - l'utilisateur pose une question via une interface graphique\n",
    "       - la question est pré-traitée\n",
    "       - on catégorise la question et on effectue une recherche de similarité\n",
    "       - on récupère la question la plus similaire et la réponse associée\n",
    "   - le robot renvoie cette question similaire (éventuellement accompagnée de liens) et demande une confirmation\n",
    "       - si l'utilisateur n'accepte pas la réponse, on réessaie jusqu'à trois fois => en faisant reformuler la question ? en modifiant la recherche de similarités ?\n",
    "       - si l'utilisateur est satisfait on est en fin d'interaction\n"
   ]
  },
  {
   "cell_type": "markdown",
   "metadata": {
    "slideshow": {
     "slide_type": "subslide"
    }
   },
   "source": [
    "| Test        | Tableaux           | Markdown  |\n",
    "| ------------- |:-------------:| -----:|\n",
    "| ipsum    | lorem | abc |\n",
    "| lorem      | ipsum      |   def |\n",
    "| ipsum | lorem      |    ghi |"
   ]
  },
  {
   "cell_type": "markdown",
   "metadata": {
    "slideshow": {
     "slide_type": "subslide"
    }
   },
   "source": [
    "\n",
    "\n",
    "## Optio quia suscipit totam tempore magnam magni. Molestias voluptas dolorem officia occaecati repellendus iste dolor accusamus. Omnis et maxime omnis quia. Voluptatem aperiam voluptatem aspernatur voluptatem ut quod unde. Quaerat praesentium qui temporibus in sit est.\n",
    "\n",
    "Facilis placeat eius pariatur. Esse dicta et voluptas officiis. Ex dicta qui possimus. Velit esse necessitatibus nobis laudantium sint mollitia ut unde.\n",
    "\n",
    "Deserunt et dolorum quis numquam tenetur. Voluptatibus reprehenderit voluptates voluptatem necessitatibus sint tempore. Est occaecati eligendi velit ab. Recusandae officia temporibus consequuntur cupiditate dolores fugiat provident aliquam. Occaecati consequatur nam doloremque eveniet qui alias.\n",
    "\n",
    "Est officiis voluptatem quisquam debitis veritatis est animi. Distinctio delectus excepturi repudiandae in ipsa corporis labore perferendis. Ea beatae rerum voluptate adipisci corporis impedit ad omnis. Occaecati quo aut ut quo. Nihil quos et ea laudantium eligendi debitis perferendis aut.\n",
    "\n",
    "Dolor eius animi aliquam vero voluptas facilis quasi est. Est omnis ea est omnis eos aperiam architecto. Sint quia aliquid illo ut.\n"
   ]
  }
 ],
 "metadata": {
  "celltoolbar": "Diaporama",
  "kernelspec": {
   "display_name": "Python 3",
   "language": "python",
   "name": "python3"
  },
  "language_info": {
   "codemirror_mode": {
    "name": "ipython",
    "version": 3
   },
   "file_extension": ".py",
   "mimetype": "text/x-python",
   "name": "python",
   "nbconvert_exporter": "python",
   "pygments_lexer": "ipython3",
   "version": "3.6.5"
  }
 },
 "nbformat": 4,
 "nbformat_minor": 2
}
