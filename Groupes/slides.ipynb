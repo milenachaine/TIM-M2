{
 "cells": [
  {
   "cell_type": "markdown",
   "metadata": {
    "slideshow": {
     "slide_type": "slide"
    }
   },
   "source": [
    "# Test diaporama pour la présentation avec Doctrine"
   ]
  },
  {
   "cell_type": "markdown",
   "metadata": {
    "slideshow": {
     "slide_type": "slide"
    }
   },
   "source": [
    "# Commandes de base\n",
    " - Pour lancer un notebook en mode slides :\n",
    " ```python\n",
    "jupyter nbconvert slides.ipynb --to slides --post serve\n",
    "```\n",
    " - 'Diapo' crée une diapo normale (accessible avec les flèches gauche/droite), 'Sous-Diapo' crée une hiérarchie (accessible par les flèches haut/bas)\n",
    " - (Markdown)[https://github.com/adam-p/markdown-here/wiki/Markdown-Cheatsheet]"
   ]
  },
  {
   "cell_type": "markdown",
   "metadata": {
    "slideshow": {
     "slide_type": "slide"
    }
   },
   "source": [
    "\n",
    "\n",
    "## Optio quia suscipit totam tempore magnam magni. Molestias voluptas dolorem officia occaecati repellendus iste dolor accusamus. Omnis et maxime omnis quia. Voluptatem aperiam voluptatem aspernatur voluptatem ut quod unde. Quaerat praesentium qui temporibus in sit est.\n",
    "\n",
    "Facilis placeat eius pariatur. Esse dicta et voluptas officiis. Ex dicta qui possimus. Velit esse necessitatibus nobis laudantium sint mollitia ut unde.\n",
    "\n",
    "Deserunt et dolorum quis numquam tenetur. Voluptatibus reprehenderit voluptates voluptatem necessitatibus sint tempore. Est occaecati eligendi velit ab. Recusandae officia temporibus consequuntur cupiditate dolores fugiat provident aliquam. Occaecati consequatur nam doloremque eveniet qui alias.\n",
    "\n",
    "Est officiis voluptatem quisquam debitis veritatis est animi. Distinctio delectus excepturi repudiandae in ipsa corporis labore perferendis. Ea beatae rerum voluptate adipisci corporis impedit ad omnis. Occaecati quo aut ut quo. Nihil quos et ea laudantium eligendi debitis perferendis aut.\n",
    "\n",
    "Dolor eius animi aliquam vero voluptas facilis quasi est. Est omnis ea est omnis eos aperiam architecto. Sint quia aliquid illo ut.\n"
   ]
  }
 ],
 "metadata": {
  "celltoolbar": "Diaporama",
  "kernelspec": {
   "display_name": "Python 3",
   "language": "python",
   "name": "python3"
  },
  "language_info": {
   "codemirror_mode": {
    "name": "ipython",
    "version": 3
   },
   "file_extension": ".py",
   "mimetype": "text/x-python",
   "name": "python",
   "nbconvert_exporter": "python",
   "pygments_lexer": "ipython3",
   "version": "3.7.2"
  }
 },
 "nbformat": 4,
 "nbformat_minor": 2
}
