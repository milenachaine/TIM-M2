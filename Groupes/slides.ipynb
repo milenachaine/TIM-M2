{
 "cells": [
  {
   "cell_type": "markdown",
   "metadata": {
    "slideshow": {
     "slide_type": "slide"
    }
   },
   "source": [
    "# Test diaporama pour la présentation avec Doctrine"
   ]
  },
  {
   "cell_type": "markdown",
   "metadata": {
    "slideshow": {
     "slide_type": "slide"
    }
   },
   "source": [
    "# Commandes de base pour utiliser jupyter en mode slides\n",
    " - Pour lancer un notebook en mode slides :\n",
    " ```python\n",
    "jupyter nbconvert slides.ipynb --to slides --post serve\n",
    "```\n",
    " - 'Diapo' crée une diapo normale (accessible avec les flèches gauche/droite), 'Sous-Diapo' crée une hiérarchie (accessible par les flèches haut/bas)\n",
    " - (Markdown)[https://github.com/adam-p/markdown-here/wiki/Markdown-Cheatsheet]"
   ]
  },
  {
   "cell_type": "markdown",
   "metadata": {},
   "source": [
    "# Le projet : Chatlaw\n",
    "\n",
    "Présentation du concept (robot qui répond à des questions, etc).\n",
    "Lorem ipsum dolor sit amet, consectetur adipiscing elit. Sed non risus. Suspendisse lectus tortor, dignissim sit amet, adipiscing nec, ultricies sed, dolor. Cras elementum ultrices diam. Maecenas ligula massa, varius a, semper congue, euismod non, mi. Proin porttitor, orci nec nonummy molestie, enim est eleifend mi, non fermentum diam nisl sit amet erat. Duis semper. Duis arcu massa, scelerisque vitae, consequat in, pretium a, enim. Pellentesque congue. Ut in risus volutpat libero pharetra tempor. Cras vestibulum bibendum augue. Praesent egestas leo in pede. Praesent blandit odio eu enim. Pellentesque sed dui ut augue blandit sodales. Vestibulum ante ipsum primis in faucibus orci luctus et ultrices posuere cubilia Curae; Aliquam nibh. Mauris ac mauris sed pede pellentesque fermentum. Maecenas adipiscing ante non diam sodales hendrerit. "
   ]
  },
  {
   "cell_type": "markdown",
   "metadata": {},
   "source": [
    "# Etapes du projet\n",
    "## crawling de différents sites pour obtenir des données\n",
    "## catégorisation automatique de ces données\n",
    "## "
   ]
  },
  {
   "cell_type": "markdown",
   "metadata": {
    "slideshow": {
     "slide_type": "slide"
    }
   },
   "source": [
    "\n",
    "\n",
    "## Optio quia suscipit totam tempore magnam magni. Molestias voluptas dolorem officia occaecati repellendus iste dolor accusamus. Omnis et maxime omnis quia. Voluptatem aperiam voluptatem aspernatur voluptatem ut quod unde. Quaerat praesentium qui temporibus in sit est.\n",
    "\n",
    "Facilis placeat eius pariatur. Esse dicta et voluptas officiis. Ex dicta qui possimus. Velit esse necessitatibus nobis laudantium sint mollitia ut unde.\n",
    "\n",
    "Deserunt et dolorum quis numquam tenetur. Voluptatibus reprehenderit voluptates voluptatem necessitatibus sint tempore. Est occaecati eligendi velit ab. Recusandae officia temporibus consequuntur cupiditate dolores fugiat provident aliquam. Occaecati consequatur nam doloremque eveniet qui alias.\n",
    "\n",
    "Est officiis voluptatem quisquam debitis veritatis est animi. Distinctio delectus excepturi repudiandae in ipsa corporis labore perferendis. Ea beatae rerum voluptate adipisci corporis impedit ad omnis. Occaecati quo aut ut quo. Nihil quos et ea laudantium eligendi debitis perferendis aut.\n",
    "\n",
    "Dolor eius animi aliquam vero voluptas facilis quasi est. Est omnis ea est omnis eos aperiam architecto. Sint quia aliquid illo ut.\n"
   ]
  }
 ],
 "metadata": {
  "celltoolbar": "Diaporama",
  "kernelspec": {
   "display_name": "Python 3",
   "language": "python",
   "name": "python3"
  },
  "language_info": {
   "codemirror_mode": {
    "name": "ipython",
    "version": 3
   },
   "file_extension": ".py",
   "mimetype": "text/x-python",
   "name": "python",
   "nbconvert_exporter": "python",
   "pygments_lexer": "ipython3",
   "version": "3.7.2"
  }
 },
 "nbformat": 4,
 "nbformat_minor": 2
}
