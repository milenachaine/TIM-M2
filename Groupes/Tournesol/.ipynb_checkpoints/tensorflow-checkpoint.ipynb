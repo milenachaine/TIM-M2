{
 "cells": [
  {
   "cell_type": "code",
   "execution_count": 7,
   "metadata": {
    "collapsed": false,
    "deletable": true,
    "editable": true
   },
   "outputs": [
    {
     "name": "stdout",
     "output_type": "stream",
     "text": [
      "Reading corpus and finding features\n",
      "Création de la matrice numpy pour x et y\n",
      "Insertion des données dans la matrice\n",
      "(99, 16)\n",
      "(99, 1)\n"
     ]
    }
   ],
   "source": [
    "#!/bin/env python3\n",
    "import matplotlib.pyplot as plt\n",
    "from getfeatures import features, getfeature\n",
    "import tensorflow as tf\n",
    "import xml.etree.ElementTree as ET\n",
    "import numpy\n",
    "import matplotlib.pyplot as plt\n",
    "numpy.set_printoptions(precision=2,threshold=1000,suppress=True)\n",
    "\n",
    "\n",
    "\n",
    "##Avoir train corpus\n",
    "print('Reading corpus and finding features')\n",
    "xmlcorpus = ET.parse('../../Corpus/all-train.xml')\n",
    "nodoc = 0\n",
    "\n",
    "print('Création de la matrice numpy pour x et y')\n",
    "docs = xmlcorpus.getroot().getchildren()\n",
    "featurekeys = sorted(list(features.keys()))\n",
    "x = numpy.zeros((len(docs), len(featurekeys)))\n",
    "y = numpy.zeros((len(docs),1))\n",
    "\n",
    "print('Insertion des données dans la matrice')\n",
    "for i in range(len(docs)):\n",
    "    for j in range(len(featurekeys)):\n",
    "        doc = docs[i]\n",
    "        featurename = featurekeys[j]\n",
    "        x[i,j] = getfeature(doc, featurename)\n",
    "        fake = 0\n",
    "        if doc.get('class') == 'fake':\n",
    "            fake = 1\n",
    "        y[i] = fake\n",
    "print(x.shape)\n",
    "print(y.shape)"
   ]
  },
  {
   "cell_type": "code",
   "execution_count": 8,
   "metadata": {
    "collapsed": false,
    "deletable": true,
    "editable": true
   },
   "outputs": [
    {
     "name": "stdout",
     "output_type": "stream",
     "text": [
      "Reading corpus and finding features\n",
      "Création de la matrice numpy pour x et y\n",
      "Insertion des données dans la matrice\n",
      "(49, 16)\n",
      "(49, 1)\n"
     ]
    }
   ],
   "source": [
    "##Avoir test corpus\n",
    "print('Reading corpus and finding features')\n",
    "xmlcorpus = ET.parse('../../Corpus/all-test.xml')\n",
    "nodoc = 0\n",
    "\n",
    "print('Création de la matrice numpy pour x et y')\n",
    "docs = xmlcorpus.getroot().getchildren()\n",
    "\n",
    "x2 = numpy.zeros((len(docs), len(featurekeys)))\n",
    "y2 = numpy.zeros((len(docs),1))\n",
    "\n",
    "print('Insertion des données dans la matrice')\n",
    "for i in range(len(docs)):\n",
    "    for j in range(len(featurekeys)):\n",
    "        doc = docs[i]\n",
    "        featurename = featurekeys[j]\n",
    "        x2[i,j] = getfeature(doc, featurename)\n",
    "        fake = 0\n",
    "        if doc.get('class') == 'fake':\n",
    "            fake = 1\n",
    "        y2[i] = fake\n",
    "print(x2.shape)\n",
    "print(y2.shape)"
   ]
  },
  {
   "cell_type": "code",
   "execution_count": 9,
   "metadata": {
    "collapsed": false,
    "deletable": true,
    "editable": true
   },
   "outputs": [],
   "source": [
    "def add_layer(inputs,in_size,out_size,activation_function=None):\n",
    "    #Créer Weights et biases d'une façon aléatoire\n",
    "    Weights = tf.Variable(tf.random_normal([in_size,out_size]))\n",
    "    biases = tf.Variable(tf.zeros([1,out_size]) + 0.1) \n",
    "    Wx_plus_b = tf.matmul(inputs,Weights) + biases\n",
    "    if activation_function is None:\n",
    "        outputs = Wx_plus_b\n",
    "    else:\n",
    "        outputs = activation_function(Wx_plus_b)\n",
    "    return outputs"
   ]
  },
  {
   "cell_type": "code",
   "execution_count": 10,
   "metadata": {
    "collapsed": true,
    "deletable": true,
    "editable": true
   },
   "outputs": [],
   "source": [
    "def compute_accuracy(v_xs,v_ys):\n",
    "    # calculer accuracy de notre modèle\n",
    "    global prediction\n",
    "    y_pre = sess.run(prediction,feed_dict={xs:v_xs})\n",
    "    correct_prediction = tf.equal(y_pre,v_ys)\n",
    "    accuracy = tf.reduce_mean(tf.cast(correct_prediction,tf.float32))\n",
    "    result = sess.run(accuracy,feed_dict={xs:v_xs,ys:v_ys})\n",
    "    return result"
   ]
  },
  {
   "cell_type": "code",
   "execution_count": 11,
   "metadata": {
    "collapsed": true,
    "deletable": true,
    "editable": true
   },
   "outputs": [],
   "source": [
    "def output(v_xs,v_ys):\n",
    "    # return un fichier xml pour stcoker la prédiction\n",
    "    global prediction\n",
    "    y_pre = sess.run(prediction,feed_dict={xs:v_xs})\n",
    "    with open('output.xml','w') as file:\n",
    "        file.write('xml\\n')\n",
    "        for i in y_pre:\n",
    "            if i[0] == '0.0':\n",
    "                file.write('truste\\n')\n",
    "            else :\n",
    "                file.write('fake\\n')\n",
    "    return None"
   ]
  },
  {
   "cell_type": "code",
   "execution_count": 12,
   "metadata": {
    "collapsed": false,
    "deletable": true,
    "editable": true
   },
   "outputs": [],
   "source": [
    "xs = tf.placeholder(tf.float32,[None,len(featurekeys)])\n",
    "ys = tf.placeholder(tf.float32,[None,1])"
   ]
  },
  {
   "cell_type": "code",
   "execution_count": 26,
   "metadata": {
    "collapsed": false,
    "deletable": true,
    "editable": true
   },
   "outputs": [
    {
     "name": "stdout",
     "output_type": "stream",
     "text": [
      "0.3265306\n",
      "[[1.]\n",
      " [1.]\n",
      " [1.]\n",
      " [1.]\n",
      " [1.]\n",
      " [1.]\n",
      " [1.]\n",
      " [1.]\n",
      " [1.]\n",
      " [1.]\n",
      " [1.]\n",
      " [1.]\n",
      " [1.]\n",
      " [1.]\n",
      " [1.]\n",
      " [1.]\n",
      " [1.]\n",
      " [1.]\n",
      " [1.]\n",
      " [1.]\n",
      " [1.]\n",
      " [1.]\n",
      " [1.]\n",
      " [1.]\n",
      " [1.]\n",
      " [1.]\n",
      " [1.]\n",
      " [1.]\n",
      " [1.]\n",
      " [1.]\n",
      " [1.]\n",
      " [1.]\n",
      " [1.]\n",
      " [1.]\n",
      " [1.]\n",
      " [1.]\n",
      " [1.]\n",
      " [1.]\n",
      " [1.]\n",
      " [1.]\n",
      " [1.]\n",
      " [1.]\n",
      " [1.]\n",
      " [1.]\n",
      " [1.]\n",
      " [1.]\n",
      " [1.]\n",
      " [1.]\n",
      " [1.]\n",
      " [1.]\n",
      " [1.]\n",
      " [1.]\n",
      " [1.]\n",
      " [1.]\n",
      " [1.]\n",
      " [1.]\n",
      " [1.]\n",
      " [1.]\n",
      " [1.]\n",
      " [1.]\n",
      " [1.]\n",
      " [1.]\n",
      " [1.]\n",
      " [1.]\n",
      " [1.]\n",
      " [1.]\n",
      " [1.]\n",
      " [1.]\n",
      " [1.]\n",
      " [1.]\n",
      " [1.]\n",
      " [1.]\n",
      " [1.]\n",
      " [1.]\n",
      " [1.]\n",
      " [1.]\n",
      " [1.]\n",
      " [1.]\n",
      " [1.]\n",
      " [1.]\n",
      " [1.]\n",
      " [1.]\n",
      " [1.]\n",
      " [1.]\n",
      " [1.]\n",
      " [1.]\n",
      " [1.]\n",
      " [1.]\n",
      " [1.]\n",
      " [1.]\n",
      " [1.]\n",
      " [1.]\n",
      " [1.]\n",
      " [1.]\n",
      " [1.]\n",
      " [1.]\n",
      " [1.]\n",
      " [1.]\n",
      " [1.]]\n"
     ]
    }
   ],
   "source": [
    "l1 = add_layer(xs,len(featurekeys),10,activation_function=tf.nn.softmax)\n",
    "prediction = add_layer(l1,10,1,activation_function=tf.nn.softmax)\n",
    "#softmax pour faire la classification\n",
    "\n",
    "cross_entropy = tf.reduce_mean(-tf.reduce_sum(ys*tf.log(prediction),\n",
    "                    reduction_indices=[1]))#cross_entropy =loss\n",
    "\n",
    "train_step = tf.train.GradientDescentOptimizer(0.1).minimize(cross_entropy)\n",
    "init=tf.global_variables_initializer()\n",
    "\n",
    "#train\n",
    "with tf.Session() as sess:\n",
    "    sess.run(init)\n",
    "    for i in range(1000):\n",
    "        sess.run(train_step,feed_dict={xs:x,ys:y})\n",
    "    \n",
    "    #print l'accuracy\n",
    "    print(compute_accuracy(x2,y2))\n",
    "    \n",
    "    #créer le fichier xml:\n",
    "    #output(x2,y2)\n",
    "\n"
   ]
  },
  {
   "cell_type": "code",
   "execution_count": null,
   "metadata": {
    "collapsed": false,
    "deletable": true,
    "editable": true
   },
   "outputs": [],
   "source": []
  },
  {
   "cell_type": "code",
   "execution_count": null,
   "metadata": {
    "collapsed": false,
    "deletable": true,
    "editable": true
   },
   "outputs": [],
   "source": []
  },
  {
   "cell_type": "code",
   "execution_count": null,
   "metadata": {
    "collapsed": true,
    "deletable": true,
    "editable": true
   },
   "outputs": [],
   "source": []
  }
 ],
 "metadata": {
  "kernelspec": {
   "display_name": "Python 3",
   "language": "python",
   "name": "python3"
  },
  "language_info": {
   "codemirror_mode": {
    "name": "ipython",
    "version": 3
   },
   "file_extension": ".py",
   "mimetype": "text/x-python",
   "name": "python",
   "nbconvert_exporter": "python",
   "pygments_lexer": "ipython3",
   "version": "3.5.3"
  }
 },
 "nbformat": 4,
 "nbformat_minor": 2
}
