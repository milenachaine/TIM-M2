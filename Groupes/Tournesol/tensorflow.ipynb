{
 "cells": [
  {
   "cell_type": "code",
   "execution_count": 14,
   "metadata": {
    "collapsed": false,
    "deletable": true,
    "editable": true
   },
   "outputs": [
    {
     "name": "stdout",
     "output_type": "stream",
     "text": [
      "Reading corpus and finding features\n",
      "Création de la matrice numpy pour x et y\n",
      "Insertion des données dans la matrice\n",
      "(130, 16)\n",
      "(130, 1)\n"
     ]
    }
   ],
   "source": [
    "#!/bin/env python3\n",
    "import matplotlib.pyplot as plt\n",
    "from getfeatures import features, getfeature\n",
    "import tensorflow as tf\n",
    "import xml.etree.ElementTree as ET\n",
    "import numpy\n",
    "import matplotlib.pyplot as plt\n",
    "numpy.set_printoptions(precision=2,threshold=1000,suppress=True)\n",
    "\n",
    "print('Reading corpus and finding features')\n",
    "xmlcorpus = ET.parse('../Corpus/all.xml')\n",
    "nodoc = 0\n",
    "\n",
    "print('Création de la matrice numpy pour x et y')\n",
    "docs = xmlcorpus.getroot().getchildren()\n",
    "featurekeys = sorted(list(features.keys()))\n",
    "x = numpy.zeros((len(docs), len(featurekeys)))\n",
    "y = numpy.zeros((len(docs),1))\n",
    "\n",
    "print('Insertion des données dans la matrice')\n",
    "for i in range(len(docs)):\n",
    "    for j in range(len(featurekeys)):\n",
    "        doc = docs[i]\n",
    "        featurename = featurekeys[j]\n",
    "        x[i,j] = getfeature(doc, featurename)\n",
    "        fake = 0\n",
    "        if doc.get('class') == 'fake':\n",
    "            fake = 1\n",
    "        y[i] = fake\n",
    "print(x.shape)\n",
    "print(y.shape)"
   ]
  },
  {
   "cell_type": "code",
   "execution_count": 2,
   "metadata": {
    "collapsed": false,
    "deletable": true,
    "editable": true
   },
   "outputs": [],
   "source": [
    "def add_layer(inputs,in_size,out_size,activation_function=None):\n",
    "    #随机生成Weights和biases\n",
    "    Weights = tf.Variable(tf.random_normal([in_size,out_size]))\n",
    "    biases = tf.Variable(tf.zeros([1,out_size]) + 0.1) \n",
    "    Wx_plus_b = tf.matmul(inputs,Weights) + biases\n",
    "    if activation_function is None:\n",
    "        outputs = Wx_plus_b\n",
    "    else:\n",
    "        outputs = activation_function(Wx_plus_b)\n",
    "    return outputs"
   ]
  },
  {
   "cell_type": "code",
   "execution_count": 18,
   "metadata": {
    "collapsed": false,
    "deletable": true,
    "editable": true
   },
   "outputs": [
    {
     "name": "stdout",
     "output_type": "stream",
     "text": [
      "(?, 1)\n"
     ]
    }
   ],
   "source": [
    "xs = tf.placeholder(tf.float32,[None,len(featurekeys)])\n",
    "ys = tf.placeholder(tf.float32,[None,1])\n"
   ]
  },
  {
   "cell_type": "code",
   "execution_count": 23,
   "metadata": {
    "collapsed": false,
    "deletable": true,
    "editable": true
   },
   "outputs": [
    {
     "name": "stdout",
     "output_type": "stream",
     "text": [
      "0.2619664\n",
      "0.22760768\n",
      "0.2274586\n",
      "0.22732896\n",
      "0.2272156\n",
      "0.22711599\n",
      "0.22702809\n",
      "0.22695017\n",
      "0.22686128\n",
      "0.22677952\n",
      "0.22670116\n",
      "0.22663453\n",
      "0.2265775\n",
      "0.22652851\n",
      "0.22648609\n",
      "0.22644931\n",
      "0.22641711\n",
      "0.22638892\n",
      "0.22636427\n",
      "0.22634253\n"
     ]
    }
   ],
   "source": [
    "l1 = add_layer(xs,len(featurekeys),10,activation_function=tf.nn.relu)\n",
    "prediction = add_layer(l1,10,1,activation_function=tf.nn.sigmoid)\n",
    "\n",
    "loss = tf.reduce_mean(tf.reduce_sum(tf.square(ys-prediction),\n",
    "                    reduction_indices=[1]))\n",
    "train_step = tf.train.GradientDescentOptimizer(0.1).minimize(loss)\n",
    "\n",
    "init=tf.global_variables_initializer()\n",
    "with tf.Session() as sess:\n",
    "    sess.run(init)\n",
    "    fig = plt.figure()\n",
    "    ax = fig.add_subplot(1,1,1)\n",
    "    for i in range(1000):\n",
    "        sess.run(train_step,feed_dict={xs:x,ys:y})\n",
    "        if i % 50 ==0:\n",
    "            print(sess.run(loss,feed_dict={xs:x,ys:y}))\n",
    "            #print(sess.run(prediction,feed_dict={xs:x,ys:y}))\n"
   ]
  },
  {
   "cell_type": "code",
   "execution_count": null,
   "metadata": {
    "collapsed": false,
    "deletable": true,
    "editable": true
   },
   "outputs": [],
   "source": []
  },
  {
   "cell_type": "code",
   "execution_count": null,
   "metadata": {
    "collapsed": true,
    "deletable": true,
    "editable": true
   },
   "outputs": [],
   "source": []
  }
 ],
 "metadata": {
  "kernelspec": {
   "display_name": "Python 3",
   "language": "python",
   "name": "python3"
  },
  "language_info": {
   "codemirror_mode": {
    "name": "ipython",
    "version": 3
   },
   "file_extension": ".py",
   "mimetype": "text/x-python",
   "name": "python",
   "nbconvert_exporter": "python",
   "pygments_lexer": "ipython3",
   "version": "3.5.3"
  }
 },
 "nbformat": 4,
 "nbformat_minor": 2
}
