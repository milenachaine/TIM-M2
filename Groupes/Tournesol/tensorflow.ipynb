{
 "cells": [
  {
   "cell_type": "code",
   "execution_count": 14,
   "metadata": {
    "collapsed": false,
    "deletable": true,
    "editable": true
   },
   "outputs": [
    {
     "name": "stdout",
     "output_type": "stream",
     "text": [
      "Reading corpus and finding features\n",
      "Création de la matrice numpy pour x et y\n",
      "Insertion des données dans la matrice\n",
      "(99, 17)\n",
      "(99, 1)\n"
     ]
    }
   ],
   "source": [
    "#!/bin/env python3\n",
    "\n",
    "from getfeatures import features, getfeature\n",
    "import tensorflow as tf\n",
    "import xml.etree.ElementTree as ET\n",
    "import numpy\n",
    "import matplotlib.pyplot as plt\n",
    "numpy.set_printoptions(precision=2,threshold=1000,suppress=True)\n",
    "\n",
    "print('Reading corpus and finding features')\n",
    "xmlcorpus = ET.parse('../Corpus/all.xml')\n",
    "nodoc = 0\n",
    "\n",
    "print('Création de la matrice numpy pour x et y')\n",
    "docs = xmlcorpus.getroot().getchildren()\n",
    "featurekeys = sorted(list(features.keys()))\n",
    "x = numpy.zeros((len(docs), len(featurekeys)))\n",
    "y = numpy.zeros((len(docs),1))\n",
    "\n",
    "print('Insertion des données dans la matrice')\n",
    "for i in range(len(docs)):\n",
    "    for j in range(len(featurekeys)):\n",
    "        doc = docs[i]\n",
    "        featurename = featurekeys[j]\n",
    "        x[i,j] = getfeature(doc, featurename)\n",
    "        fake = 0\n",
    "        if doc.get('class') == 'fake':\n",
    "            fake = 1\n",
    "        y[i] = fake\n",
    "print(x.shape)\n",
    "print(y.shape)"
   ]
  },
  {
   "cell_type": "code",
   "execution_count": 53,
   "metadata": {
    "collapsed": false,
    "deletable": true,
    "editable": true
   },
   "outputs": [],
   "source": [
    "def add_layer(inputs,in_size,out_size,activation_function=None):\n",
    "    Weights = tf.Variable(tf.random_normal([in_size,out_size]))\n",
    "    biases = tf.Variable(tf.zeros([1,out_size]) + 0.1) \n",
    "    Wx_plus_b = tf.matmul(inputs,Weights) + biases\n",
    "    if activation_function is None:\n",
    "        outputs = Wx_plus_b\n",
    "    else:\n",
    "        outputs = activation_function(Wx_plus_b)\n",
    "    return outputs"
   ]
  },
  {
   "cell_type": "code",
   "execution_count": 54,
   "metadata": {
    "collapsed": false,
    "deletable": true,
    "editable": true
   },
   "outputs": [],
   "source": [
    "xs = tf.placeholder(tf.float32,[None,len(featurekeys)])\n",
    "ys = tf.placeholder(tf.float32,[None,1])"
   ]
  },
  {
   "cell_type": "code",
   "execution_count": 55,
   "metadata": {
    "collapsed": false,
    "deletable": true,
    "editable": true
   },
   "outputs": [
    {
     "name": "stdout",
     "output_type": "stream",
     "text": [
      "4.6724247e+18\n",
      "21371252.0\n",
      "0.2537157\n",
      "0.2493624\n",
      "0.24936225\n",
      "0.24936225\n",
      "0.24936225\n",
      "0.24936225\n",
      "0.24936225\n",
      "0.24936225\n",
      "0.24936225\n",
      "0.24936225\n",
      "0.24936225\n",
      "0.24936225\n",
      "0.24936225\n",
      "0.24936225\n",
      "0.24936225\n",
      "0.24936225\n",
      "0.24936225\n",
      "0.24936225\n"
     ]
    }
   ],
   "source": [
    "l1 = add_layer(xs,len(featurekeys),10,activation_function=tf.nn.relu)\n",
    "prediction = add_layer(l1,10,1,activation_function=None)\n",
    "\n",
    "loss = tf.reduce_mean(tf.reduce_sum(tf.square(ys-prediction),\n",
    "                    reduction_indices=[1]))\n",
    "train_step = tf.train.GradientDescentOptimizer(0.1).minimize(loss)\n",
    "\n",
    "init=tf.global_variables_initializer()\n",
    "with tf.Session() as sess:\n",
    "    sess.run(init)\n",
    "    for i in range(1000):\n",
    "        sess.run(train_step,feed_dict={xs:x,ys:y})\n",
    "        if i % 50 ==0:\n",
    "            print(sess.run(loss,feed_dict={xs:x,ys:y}))\n",
    "            #print(sess.run(prediction,feed_dict={xs:x,ys:y}))"
   ]
  },
  {
   "cell_type": "code",
   "execution_count": null,
   "metadata": {
    "collapsed": false
   },
   "outputs": [],
   "source": []
  },
  {
   "cell_type": "code",
   "execution_count": null,
   "metadata": {
    "collapsed": true
   },
   "outputs": [],
   "source": []
  }
 ],
 "metadata": {
  "kernelspec": {
   "display_name": "Python 3",
   "language": "python",
   "name": "python3"
  },
  "language_info": {
   "codemirror_mode": {
    "name": "ipython",
    "version": 3
   },
   "file_extension": ".py",
   "mimetype": "text/x-python",
   "name": "python",
   "nbconvert_exporter": "python",
   "pygments_lexer": "ipython3",
   "version": "3.5.3"
  }
 },
 "nbformat": 4,
 "nbformat_minor": 2
}
