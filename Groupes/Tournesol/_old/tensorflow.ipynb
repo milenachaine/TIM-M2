{
 "cells": [
  {
   "cell_type": "code",
   "execution_count": 1,
   "metadata": {
    "collapsed": false,
    "deletable": true,
    "editable": true
   },
   "outputs": [
    {
     "name": "stdout",
     "output_type": "stream",
     "text": [
      "Reading corpus and finding features\n",
      "Création de la matrice numpy pour x et y\n",
      "Insertion des données dans la matrice\n"
     ]
    }
   ],
   "source": [
    "#!/bin/env python3\n",
    "import matplotlib.pyplot as plt\n",
    "from getfeatures import features, getfeature\n",
    "import tensorflow as tf\n",
    "import xml.etree.ElementTree as ET\n",
    "import numpy\n",
    "numpy.set_printoptions(precision=2,threshold=1000,suppress=True)\n",
    "\n",
    "\n",
    "\n",
    "##Avoir train corpus\n",
    "print('Reading corpus and finding features')\n",
    "xmlcorpus = ET.parse('../../Corpus/all-train.xml')\n",
    "nodoc = 0\n",
    "\n",
    "print('Création de la matrice numpy pour x et y')\n",
    "docs = xmlcorpus.getroot().getchildren()\n",
    "featurekeys = sorted(list(features.keys()))\n",
    "x = numpy.zeros((len(docs), len(featurekeys)))\n",
    "y = numpy.zeros((len(docs),2))\n",
    "\n",
    "#la structure du label y : [0,1]= fake, [1,0]=trusted\n",
    "print('Insertion des données dans la matrice')\n",
    "for i in range(len(docs)):\n",
    "    for j in range(len(featurekeys)):\n",
    "        doc = docs[i]\n",
    "        featurename = featurekeys[j]\n",
    "        x[i,j] = getfeature(doc, featurename)\n",
    "        fake = 0\n",
    "        if doc.get('class') == 'fake':\n",
    "            fake = 1\n",
    "            y[i][1] = fake\n",
    "        else :\n",
    "            y[i][0] = 1\n",
    "#print(x.shape)\n",
    "#print(y.shape)"
   ]
  },
  {
   "cell_type": "code",
   "execution_count": 2,
   "metadata": {
    "collapsed": false,
    "deletable": true,
    "editable": true
   },
   "outputs": [
    {
     "name": "stdout",
     "output_type": "stream",
     "text": [
      "Reading corpus and finding features\n",
      "Création de la matrice numpy pour x et y\n",
      "Insertion des données dans la matrice\n"
     ]
    }
   ],
   "source": [
    "##Avoir test corpus\n",
    "print('Reading corpus and finding features')\n",
    "xmlcorpus = ET.parse('../../Corpus/all-test.xml')\n",
    "nodoc = 0\n",
    "\n",
    "print('Création de la matrice numpy pour x et y')\n",
    "docs = xmlcorpus.getroot().getchildren()\n",
    "\n",
    "x2 = numpy.zeros((len(docs), len(featurekeys)))\n",
    "y2 = numpy.zeros((len(docs),2))\n",
    "\n",
    "print('Insertion des données dans la matrice')\n",
    "for i in range(len(docs)):\n",
    "    for j in range(len(featurekeys)):\n",
    "        doc = docs[i]\n",
    "        featurename = featurekeys[j]\n",
    "        x2[i,j] = getfeature(doc, featurename)\n",
    "        fake = 0\n",
    "        if doc.get('class') == 'fake':\n",
    "            fake = 1\n",
    "            y2[i][1] = fake\n",
    "        else :\n",
    "            y2[i][0] = 1\n",
    "#print(x2.shape)\n",
    "#print(y2.shape)"
   ]
  },
  {
   "cell_type": "code",
   "execution_count": 3,
   "metadata": {
    "collapsed": false,
    "deletable": true,
    "editable": true
   },
   "outputs": [],
   "source": [
    "def add_layer(inputs,in_size,out_size,activation_function=None):\n",
    "    #Créer Weights et biases d'une façon aléatoire\n",
    "    #Return le résultat d'équation : Wx + b\n",
    "    Weights = tf.Variable(tf.random_normal([in_size,out_size]))\n",
    "    biases = tf.Variable(tf.zeros([1,out_size]) + 0.1) \n",
    "    Wx_plus_b = tf.matmul(inputs,Weights) + biases\n",
    "    if activation_function is None:\n",
    "        outputs = Wx_plus_b\n",
    "    else:\n",
    "        outputs = activation_function(Wx_plus_b)\n",
    "    return outputs"
   ]
  },
  {
   "cell_type": "code",
   "execution_count": 4,
   "metadata": {
    "collapsed": true,
    "deletable": true,
    "editable": true
   },
   "outputs": [],
   "source": [
    "def compute_accuracy(v_xs,v_ys):\n",
    "    # calculer accuracy de notre modèle\n",
    "    global prediction\n",
    "    y_pre = sess.run(prediction,feed_dict={xs:v_xs})\n",
    "    \n",
    "    #comparéer l'index de l'argument max de label Y et celui de prédiction\n",
    "    correct_prediction = tf.equal(tf.argmax(y_pre,1),tf.argmax(v_ys,1))\n",
    "    accuracy = tf.reduce_mean(tf.cast(correct_prediction,tf.float32))\n",
    "    result = sess.run(accuracy,feed_dict={xs:v_xs,ys:v_ys})\n",
    "    return result"
   ]
  },
  {
   "cell_type": "code",
   "execution_count": 5,
   "metadata": {
    "collapsed": false,
    "deletable": true,
    "editable": true
   },
   "outputs": [],
   "source": [
    "## Pour Jielei à Modifier !!\n",
    "def output(v_xs,v_ys):\n",
    "    # return un fichier xml pour stcoker la prédiction\n",
    "    global prediction\n",
    "    y_pre = sess.run(prediction,feed_dict={xs:v_xs})\n",
    "    with open('output.xml','w') as file:\n",
    "        file.write('xml\\n')\n",
    "        for i in y_pre:\n",
    "            if i[0] <= 0.50:\n",
    "                file.write('truste\\n')\n",
    "            else :\n",
    "                file.write('fake\\n')\n",
    "    return None"
   ]
  },
  {
   "cell_type": "code",
   "execution_count": 6,
   "metadata": {
    "collapsed": false,
    "deletable": true,
    "editable": true
   },
   "outputs": [],
   "source": [
    "xs = tf.placeholder(tf.float32,[None,len(featurekeys)])\n",
    "ys = tf.placeholder(tf.float32,[None,2])"
   ]
  },
  {
   "cell_type": "code",
   "execution_count": 51,
   "metadata": {
    "collapsed": false,
    "deletable": true,
    "editable": true
   },
   "outputs": [
    {
     "name": "stdout",
     "output_type": "stream",
     "text": [
      "l'accuracy est  0.36734694\n",
      "l'accuracy est  0.71428573\n",
      "l'accuracy est  0.71428573\n",
      "l'accuracy est  0.71428573\n",
      "l'accuracy est  0.7346939\n",
      "l'accuracy est  0.7346939\n",
      "l'accuracy est  0.7346939\n",
      "l'accuracy est  0.7346939\n",
      "l'accuracy est  0.7346939\n",
      "l'accuracy est  0.7346939\n",
      "l'accuracy est  0.7346939\n",
      "l'accuracy est  0.71428573\n",
      "l'accuracy est  0.71428573\n",
      "l'accuracy est  0.6938776\n",
      "l'accuracy est  0.6938776\n",
      "l'accuracy est  0.6938776\n",
      "l'accuracy est  0.6938776\n",
      "l'accuracy est  0.6938776\n",
      "l'accuracy est  0.6938776\n",
      "l'accuracy est  0.6938776\n"
     ]
    }
   ],
   "source": [
    "l1 = add_layer(xs,len(featurekeys),10,activation_function=tf.nn.softmax)\n",
    "prediction = add_layer(l1,10,2,activation_function=tf.nn.softmax)\n",
    "#softmax pour faire la classification\n",
    "# le résutalt est la possibilité d'être fake ou truste, par exemple : [0.29 0.71] veut dire, \n",
    "# 29% possibilité être trusted, alors que 71% possibilité être fake.\n",
    "\n",
    "cross_entropy = tf.reduce_mean(-tf.reduce_sum(ys*tf.log(prediction),\n",
    "                    reduction_indices=[1]))#cross_entropy =loss\n",
    "\n",
    "train_step = tf.train.GradientDescentOptimizer(0.1).minimize(cross_entropy)\n",
    "init=tf.global_variables_initializer()\n",
    "\n",
    "#train\n",
    "with tf.Session() as sess:\n",
    "    sess.run(init)\n",
    "    for i in range(2000):\n",
    "        sess.run(train_step,feed_dict={xs:x,ys:y})\n",
    "    \n",
    "    #print l'accuracy tous les 100 fois:\n",
    "        if i % 100 == 0:\n",
    "            print(\"l'accuracy est \", compute_accuracy(x2,y2))\n",
    "    \n",
    "    # si vous voulez regarder le résultat de prédiction:\n",
    "    #print(sess.run(prediction,feed_dict={xs:x}))\n",
    "    \n",
    "    \n",
    "    #créer le fichier xml:\n",
    "    #output(x2,y2)\n",
    "\n"
   ]
  },
  {
   "cell_type": "markdown",
   "metadata": {
    "collapsed": false,
    "deletable": true,
    "editable": true
   },
   "source": [
    "# Problèmes reste à régler : \n",
    "## 1. l'accuray n'est pas stable.   \n",
    "\n",
    "#### l'accuracy est  0.36734694\n",
    "#### l'accuracy est  0.71428573\n",
    "#### l'accuracy est  0.71428573\n",
    "#### l'accuracy est  0.71428573\n",
    "#### l'accuracy est  0.7346939\n",
    "#### l'accuracy est  0.7346939\n",
    "#### l'accuracy est  0.7346939\n",
    "#### l'accuracy est  0.7346939\n",
    "#### l'accuracy est  0.7346939\n",
    "#### l'accuracy est  0.7346939\n",
    "#### l'accuracy est  0.7346939\n",
    "#### l'accuracy est  0.71428573\n",
    "#### l'accuracy est  0.71428573\n",
    "#### l'accuracy est  0.6938776\n",
    "#### l'accuracy est  0.6938776\n",
    "#### l'accuracy est  0.6938776\n",
    "#### l'accuracy est  0.6938776\n",
    "#### l'accuracy est  0.6938776\n",
    "#### l'accuracy est  0.6938776\n",
    "#### l'accuracy est  0.6938776\n",
    "\n",
    "## 2. décomposer ce script comme train.py et test.py\n",
    "\n",
    "## 3. créer output xml\n"
   ]
  },
  {
   "cell_type": "code",
   "execution_count": null,
   "metadata": {
    "collapsed": false,
    "deletable": true,
    "editable": true
   },
   "outputs": [],
   "source": []
  },
  {
   "cell_type": "code",
   "execution_count": null,
   "metadata": {
    "collapsed": true,
    "deletable": true,
    "editable": true
   },
   "outputs": [],
   "source": []
  }
 ],
 "metadata": {
  "kernelspec": {
   "display_name": "Python 3",
   "language": "python",
   "name": "python3"
  },
  "language_info": {
   "codemirror_mode": {
    "name": "ipython",
    "version": 3
   },
   "file_extension": ".py",
   "mimetype": "text/x-python",
   "name": "python",
   "nbconvert_exporter": "python",
   "pygments_lexer": "ipython3",
   "version": "3.5.3"
  }
 },
 "nbformat": 4,
 "nbformat_minor": 2
}
