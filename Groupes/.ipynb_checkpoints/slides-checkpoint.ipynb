{
 "cells": [
  {
   "cell_type": "markdown",
   "metadata": {},
   "source": [
    "# Le projet : Chatlaw\n",
    "\n",
    "## Présentation du concept\n",
    "\n",
    "L'objectif de ce projet est de réaliser un chatbot nous permettant d'obtenir une réponse sur une question du domaine juridique. Cette réponse étant obtenu à l'aide d'une similarité d'une réponse déjà présente sur des forums.\n",
    "\n"
   ]
  },
  {
   "cell_type": "markdown",
   "metadata": {},
   "source": [
    "![](schema.png)"
   ]
  },
  {
   "cell_type": "markdown",
   "metadata": {
    "slideshow": {
     "slide_type": "fragment"
    }
   },
   "source": [
    "# Etapes du projet\n",
    "## crawling de différents sites pour obtenir des données\n",
    "## prétraitement des données\n",
    "## catégorisation automatique de ces données\n",
    "## interaction avec l'utilisateur\n",
    " - l'utilisateur peut poser une question juridique et reçoit la question la plus similaire à la sienne dans la base de données, ainsi que la réponse associée"
   ]
  },
  {
   "cell_type": "markdown",
   "metadata": {
    "slideshow": {
     "slide_type": "slide"
    }
   },
   "source": [
    "# Crawling"
   ]
  },
  {
   "cell_type": "markdown",
   "metadata": {
    "slideshow": {
     "slide_type": "slide"
    }
   },
   "source": [
    "# Prétraitement"
   ]
  },
  {
   "cell_type": "markdown",
   "metadata": {
    "slideshow": {
     "slide_type": "slide"
    }
   },
   "source": [
    "# Catégorisation"
   ]
  },
  {
   "cell_type": "markdown",
   "metadata": {
    "slideshow": {
     "slide_type": "slide"
    }
   },
   "source": [
    "# Interaction avec l'utilisateur\n",
    "## interface graphique\n",
    "\n",
    "\n",
    "## recherche de similarités\n",
    "\n",
    "La recherche de similarité est effectué avec un script en python. \n",
    "Deux scripts sont utilisés pour cela : \n",
    "\n",
    "\n",
    "### preprocessdocs.py \n",
    "\n",
    "Ce script nous permet de créer un dictionnaire à partir du corpus avec comme attribut, l'id, la classe, la sous-classe, la question, les réponses associées à la question ainsi que la question et les réponses lemmatisées. \n",
    "Le tout est sauvegardé dans des \"pickles\" qui nous permettent de conserver les résultats dans un script python pour pouvoir les réutiliser facilement. Cela nous permet de garder en mémoire celui-ci afin de ne pas refaire le processus dès que l'utilisateur pose une question.\n",
    "\n",
    "### test_question.py\n",
    "\n",
    "Ce script charge, dans un premier temps, le résultat obtenu précédemment, à partir notamment des classes catégorisées par le groupe ayant effectué la classification des documents, et transforme ce résultat en un vecteur TF-IDF. Ensuite, on utilise sur celui-ci un calcul de similarité cosinus dans les documents appartenant à la même classe que celle de la question.\n"
   ]
  },
  {
   "cell_type": "markdown",
   "metadata": {},
   "source": []
  },
  {
   "cell_type": "markdown",
   "metadata": {
    "slideshow": {
     "slide_type": "slide"
    }
   },
   "source": [
    "# Test diaporama pour la présentation avec Doctrine"
   ]
  },
  {
   "cell_type": "markdown",
   "metadata": {},
   "source": [
    "Commande : jupyter nbconvert slides.ipynb --to slides --post serve"
   ]
  },
  {
   "cell_type": "markdown",
   "metadata": {
    "slideshow": {
     "slide_type": "subslide"
    }
   },
   "source": [
    "| Test        | Tableaux           | Markdown  |\n",
    "| ------------- |:-------------:| -----:|\n",
    "| ipsum    | lorem | abc |\n",
    "| lorem      | ipsum      |   def |\n",
    "| ipsum | lorem      |    ghi |"
   ]
  }
 ],
 "metadata": {
  "celltoolbar": "Diaporama",
  "kernelspec": {
   "display_name": "Python 3",
   "language": "python",
   "name": "python3"
  },
  "language_info": {
   "codemirror_mode": {
    "name": "ipython",
    "version": 3
   },
   "file_extension": ".py",
   "mimetype": "text/x-python",
   "name": "python",
   "nbconvert_exporter": "python",
   "pygments_lexer": "ipython3",
   "version": "3.5.2"
  }
 },
 "nbformat": 4,
 "nbformat_minor": 2
}
